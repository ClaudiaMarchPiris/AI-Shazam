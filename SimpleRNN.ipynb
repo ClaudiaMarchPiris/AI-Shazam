{
 "cells": [
  {
   "cell_type": "code",
   "execution_count": 5,
   "metadata": {},
   "outputs": [],
   "source": [
    "%matplotlib inline\n",
    "import matplotlib.pyplot as plt\n",
    "import tensorflow as tf\n",
    "import numpy as np\n",
    "import pandas as pd\n",
    "from tensorflow.contrib import rnn"
   ]
  },
  {
   "cell_type": "code",
   "execution_count": 25,
   "metadata": {},
   "outputs": [],
   "source": [
    "LSTM_size = 10         #ammount of neurons in our hidden layer\n",
    "x_input_size = 107     #the size of the frequency representation of chunk\n",
    "#x_chunk_sze = 100     #ammount of chunks to fill 1 second of song\n",
    "dynamic_step_size = 10000  #total size of song i.e. seconds*(chunk*100)\n",
    "batch_size = 5         #arbitrary batch size\n",
    "learning_rate = 0.00   #learning rate\n",
    "ammount_of_songs = 30  #ammount of songs the network can identify"
   ]
  },
  {
   "cell_type": "raw",
   "metadata": {},
   "source": [
    "https://jasdeep06.github.io/posts/Understanding-LSTM-in-Tensorflow-MNIST/\n",
    "\n",
    "The inputs argument accepts list of tensors of shape [batch_size,input_size].The length of this list is the number of time steps through which network is unrolled i.e. each element of this list corresponds to the input at respective time step of our unrolled network.\n",
    "\n",
    "For our case of MNIST images,we have images of size 28X28.They can be inferred as images having 28 rows of 28 pixels each.We will unroll our network through 28 time steps so that at every time step we can input one row of 28 pixels(input_size) and thus a full image through 28 time steps\n",
    "\n",
    "We need to enroll the network dynamically according to sample size of song.\n"
   ]
  },
  {
   "cell_type": "code",
   "execution_count": 27,
   "metadata": {},
   "outputs": [],
   "source": [
    "out_weights=tf.Variable(tf.random_normal([LSTM_size,ammount_of_songs])) #initilize weights for output\n",
    "out_bias=tf.Variable(tf.random_normal([ammount_of_songs]))              #initialize biases for output\n",
    "\n",
    "x=tf.placeholder(\"float\",[None,dynamic_step_size,x_input_size])         #initialize input placeholder\n",
    "y=tf.placeholder(\"float\",[None,ammount_of_songs])                       #initialize output placeholder"
   ]
  },
  {
   "cell_type": "code",
   "execution_count": 28,
   "metadata": {},
   "outputs": [],
   "source": [
    "input=tf.unstack(x,dynamic_step_size,1) \n",
    "# creates the [batch_size,x_input_size] which we want to assign static_rnn"
   ]
  },
  {
   "cell_type": "code",
   "execution_count": 29,
   "metadata": {},
   "outputs": [],
   "source": [
    "lstm_hidden_layer=rnn.BasicLSTMCell(LSTM_size,forget_bias=1)       #defines our hidden layer\n",
    "outputs,_=rnn.static_rnn(lstm_hidden_layer,input,dtype=\"float32\")  #handles output"
   ]
  },
  {
   "cell_type": "code",
   "execution_count": 30,
   "metadata": {},
   "outputs": [],
   "source": [
    "prediction=tf.matmul(outputs[-1],out_weights)+out_bias             #predicts the song"
   ]
  },
  {
   "cell_type": "code",
   "execution_count": 32,
   "metadata": {},
   "outputs": [
    {
     "name": "stdout",
     "output_type": "stream",
     "text": [
      "WARNING:tensorflow:From <ipython-input-32-e54b1e1d2ee0>:1: softmax_cross_entropy_with_logits (from tensorflow.python.ops.nn_ops) is deprecated and will be removed in a future version.\n",
      "Instructions for updating:\n",
      "\n",
      "Future major versions of TensorFlow will allow gradients to flow\n",
      "into the labels input on backprop by default.\n",
      "\n",
      "See `tf.nn.softmax_cross_entropy_with_logits_v2`.\n",
      "\n"
     ]
    }
   ],
   "source": [
    "loss=tf.reduce_mean(tf.nn.softmax_cross_entropy_with_logits(logits=prediction,labels=y))\n",
    "opt=tf.train.AdamOptimizer(learning_rate=learning_rate).minimize(loss)\n",
    "\n",
    "\n",
    "correct_prediction=tf.equal(tf.argmax(prediction,1),tf.argmax(y,1))\n",
    "accuracy=tf.reduce_mean(tf.cast(correct_prediction,tf.float32))"
   ]
  },
  {
   "cell_type": "code",
   "execution_count": null,
   "metadata": {},
   "outputs": [],
   "source": []
  }
 ],
 "metadata": {
  "kernelspec": {
   "display_name": "Python 3",
   "language": "python",
   "name": "python3"
  },
  "language_info": {
   "codemirror_mode": {
    "name": "ipython",
    "version": 3
   },
   "file_extension": ".py",
   "mimetype": "text/x-python",
   "name": "python",
   "nbconvert_exporter": "python",
   "pygments_lexer": "ipython3",
   "version": "3.6.5"
  }
 },
 "nbformat": 4,
 "nbformat_minor": 2
}
